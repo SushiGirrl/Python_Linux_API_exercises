{
 "cells": [
  {
   "cell_type": "markdown",
   "metadata": {},
   "source": [
    "# Et super simpelt program"
   ]
  },
  {
   "cell_type": "code",
   "execution_count": 3,
   "metadata": {},
   "outputs": [
    {
     "data": {
      "text/plain": [
       "True"
      ]
     },
     "execution_count": 3,
     "metadata": {},
     "output_type": "execute_result"
    }
   ],
   "source": [
    "on = True\n",
    "on"
   ]
  },
  {
   "cell_type": "code",
   "execution_count": 8,
   "metadata": {},
   "outputs": [
    {
     "name": "stdout",
     "output_type": "stream",
     "text": [
      "Knappen er False\n"
     ]
    }
   ],
   "source": [
    "print(f'Knappen er {on}')\n",
    "on = not on"
   ]
  },
  {
   "cell_type": "code",
   "execution_count": 10,
   "metadata": {},
   "outputs": [],
   "source": [
    "if on:\n",
    "    on = False\n",
    "else:\n",
    "    on = True"
   ]
  },
  {
   "cell_type": "markdown",
   "metadata": {},
   "source": [
    "Øvelse: plat eller krone med brugerinput\n",
    "\n",
    "1 Spørg en bruger om han/hun vil starte med plat eller krone.\n",
    "\n",
    "2 Spørg herefter om brugeren vil gå videre eller stoppe.\n",
    "\n",
    "3 Hvis han/hun vil stoppe, skal værdien printes ud og programmet stoppe\n",
    "\n",
    "4 hvis han/hun vil gå videre skal værdien ændres, printes ud og programmet skal stoppe."
   ]
  },
  {
   "cell_type": "code",
   "execution_count": 21,
   "metadata": {},
   "outputs": [
    {
     "name": "stdout",
     "output_type": "stream",
     "text": [
      "Plat eller krone?\n",
      "Vil du gå videre?\n",
      "plat\n"
     ]
    }
   ],
   "source": [
    "print('Plat eller krone?')\n",
    "p_or_k = input()\n",
    "print('Vil du gå videre?')\n",
    "stop = input()\n",
    "if stop == 'ja':\n",
    "    print(p_or_k)\n",
    "else:\n",
    "    if p_or_k == 'krone':\n",
    "        p_or_k = 'plat'\n",
    "        print(p_or_k)\n",
    "    else:\n",
    "        p_or_k = 'krone'\n",
    "        print(p_or_k)"
   ]
  },
  {
   "cell_type": "code",
   "execution_count": null,
   "metadata": {},
   "outputs": [],
   "source": []
  }
 ],
 "metadata": {
  "kernelspec": {
   "display_name": ".venv",
   "language": "python",
   "name": "python3"
  },
  "language_info": {
   "codemirror_mode": {
    "name": "ipython",
    "version": 3
   },
   "file_extension": ".py",
   "mimetype": "text/x-python",
   "name": "python",
   "nbconvert_exporter": "python",
   "pygments_lexer": "ipython3",
   "version": "3.12.5"
  }
 },
 "nbformat": 4,
 "nbformat_minor": 2
}

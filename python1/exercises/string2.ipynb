{
 "cells": [
  {
   "attachments": {},
   "cell_type": "markdown",
   "metadata": {},
   "source": [
    "# Additional basic string exercises\n",
    "\n",
    "## D. verbing\n",
    "Given a string, if its length is at least 3,\n",
    "add 'ing' to its end.\n",
    "Unless it already ends in 'ing', in which case\n",
    "add 'ly' instead.\n",
    "If the string length is less than 3, leave it unchanged.\n",
    "Return the resulting string."
   ]
  },
  {
   "cell_type": "code",
   "execution_count": 19,
   "id": "63f5054b",
   "metadata": {},
   "outputs": [
    {
     "data": {
      "text/plain": [
       "'swimingly'"
      ]
     },
     "execution_count": 19,
     "metadata": {},
     "output_type": "execute_result"
    }
   ],
   "source": [
    "def verbing(s):\n",
    "  if len(s) >= 3:\n",
    "    if s[-3:] != 'ing':\n",
    "      return s + 'ing'\n",
    "    else:\n",
    "      return s + 'ly'\n",
    "  else:\n",
    "    return s    \n",
    "  \n",
    "verbing('swiming')"
   ]
  },
  {
   "attachments": {},
   "cell_type": "markdown",
   "id": "743fcc33",
   "metadata": {},
   "source": [
    "## E. not_bad\n",
    "Given a string, find the first appearance of the\n",
    "substring 'not' and 'bad'. If the 'bad' follows\n",
    "the 'not', replace the whole 'not'...'bad' substring\n",
    "with 'good'.\n",
    "Return the resulting string.\n",
    "So 'This dinner is not that bad!' yields:\n",
    "This dinner is good!"
   ]
  },
  {
   "cell_type": "code",
   "execution_count": 20,
   "id": "e6a16b71",
   "metadata": {},
   "outputs": [
    {
     "data": {
      "text/plain": [
       "'This dinner is good!'"
      ]
     },
     "execution_count": 20,
     "metadata": {},
     "output_type": "execute_result"
    }
   ],
   "source": [
    "def not_bad(s):\n",
    "  if 'not' in s and 'bad' in s and s.find('bad') > s.find('not'):\n",
    "    return s.replace(s[s.find('not'):s.find('bad') + 3], 'good')\n",
    "  else:\n",
    "    return s\n",
    "\n",
    "not_bad('This dinner is not that bad!')"
   ]
  },
  {
   "attachments": {},
   "cell_type": "markdown",
   "id": "5c3130cc",
   "metadata": {},
   "source": [
    "## F. front_back\n",
    "Consider dividing a string into two halves.\n",
    "If the length is even, the front and back halves are the same length.\n",
    "If the length is odd, we'll say that the extra char goes in the front half.\n",
    "e.g. 'abcde', the front half is 'abc', the back half 'de'.\n",
    "Given 2 strings, a and b, return a string of the form\n",
    "a-front + b-front + a-back + b-back"
   ]
  },
  {
   "cell_type": "code",
   "execution_count": 21,
   "id": "859f4f88",
   "metadata": {},
   "outputs": [
    {
     "data": {
      "text/plain": [
       "'ab12c3'"
      ]
     },
     "execution_count": 21,
     "metadata": {},
     "output_type": "execute_result"
    }
   ],
   "source": [
    "import math\n",
    "\n",
    "def front_back(a, b):\n",
    "  if len(a) % 2 == 1:\n",
    "    aFront = a[:math.ceil(len(a)/2)]\n",
    "    aBack = a[math.ceil(len(a)/2):]\n",
    "  else:\n",
    "    aFront = a[:(len(a)//2)]\n",
    "    aBack = a[(len(a)//2):]\n",
    "  if len(b) % 2 == 1:\n",
    "    bFront = b[:math.ceil(len(b)/2)]\n",
    "    bBack = b[math.ceil(len(b)/2):]\n",
    "  else:\n",
    "    bFront = b[:(len(b)//2)]\n",
    "    bBack = b[(len(b)//2):]\n",
    "  return aFront + bFront + aBack + bBack\n",
    "\n",
    "front_back('abc', '123')"
   ]
  },
  {
   "cell_type": "code",
   "execution_count": 22,
   "id": "ee303a83",
   "metadata": {},
   "outputs": [],
   "source": [
    "# THIS CODE CELL SHOUL NOT BE CHANGED OR TOUCHED (ONLY RUN)\n",
    "\n",
    "def test(got, expected):\n",
    "  if got == expected:\n",
    "    prefix = ' OK '\n",
    "  else:\n",
    "    prefix = '  X '\n",
    "  print (prefix + ' got: ' + got + ' expected: ' + expected)"
   ]
  },
  {
   "cell_type": "code",
   "execution_count": 23,
   "id": "71448dff",
   "metadata": {},
   "outputs": [],
   "source": [
    "# THIS CODE CELL SHOUL NOT BE CHANGED OR TOUCHED (ONLY RUN)\n",
    "\n",
    "def main():\n",
    "  print ('verbing')\n",
    "  test(verbing('hail'), 'hailing')\n",
    "  test(verbing('swiming'), 'swimingly')\n",
    "  test(verbing('do'), 'do')\n",
    "\n",
    "  print()\n",
    "  print ('not_bad')\n",
    "  test(not_bad('This movie is not so bad'), 'This movie is good')\n",
    "  test(not_bad('This dinner is not that bad!'), 'This dinner is good!')\n",
    "  test(not_bad('This tea is not hot'), 'This tea is not hot')\n",
    "  test(not_bad(\"It's bad yet not\"), \"It's bad yet not\")\n",
    "\n",
    "  print()\n",
    "  print ('front_back')\n",
    "  test(front_back('abcd', 'xy'), 'abxcdy')\n",
    "  test(front_back('abcde', 'xyz'), 'abcxydez')\n",
    "  test(front_back('Kitten', 'Donut'), 'KitDontenut')"
   ]
  },
  {
   "cell_type": "code",
   "execution_count": 24,
   "id": "b71c55f9",
   "metadata": {},
   "outputs": [
    {
     "name": "stdout",
     "output_type": "stream",
     "text": [
      "verbing\n",
      " OK  got: hailing expected: hailing\n",
      " OK  got: swimingly expected: swimingly\n",
      " OK  got: do expected: do\n",
      "\n",
      "not_bad\n",
      " OK  got: This movie is good expected: This movie is good\n",
      " OK  got: This dinner is good! expected: This dinner is good!\n",
      " OK  got: This tea is not hot expected: This tea is not hot\n",
      " OK  got: It's bad yet not expected: It's bad yet not\n",
      "\n",
      "front_back\n",
      " OK  got: abxcdy expected: abxcdy\n",
      " OK  got: abcxydez expected: abcxydez\n",
      " OK  got: KitDontenut expected: KitDontenut\n"
     ]
    }
   ],
   "source": [
    "# THIS CODE CELL SHOUL NOT BE CHANGED OR TOUCHED (ONLY RUN)\n",
    "main()"
   ]
  }
 ],
 "metadata": {
  "kernelspec": {
   "display_name": "Python 3",
   "language": "python",
   "name": "python3"
  },
  "language_info": {
   "codemirror_mode": {
    "name": "ipython",
    "version": 3
   },
   "file_extension": ".py",
   "mimetype": "text/x-python",
   "name": "python",
   "nbconvert_exporter": "python",
   "pygments_lexer": "ipython3",
   "version": "3.12.5"
  }
 },
 "nbformat": 4,
 "nbformat_minor": 5
}

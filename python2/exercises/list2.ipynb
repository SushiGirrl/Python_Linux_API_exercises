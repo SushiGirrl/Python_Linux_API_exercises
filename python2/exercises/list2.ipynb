{
 "cells": [
  {
   "cell_type": "markdown",
   "metadata": {},
   "source": [
    "# Additional basic list exercises"
   ]
  },
  {
   "cell_type": "markdown",
   "metadata": {},
   "source": [
    "## D. Remove adjacent \n",
    "Given a list of numbers, return a tuple where all adjacent == elements have been reduced to a single element, so [1, 2, 2, 3] returns (1, 2, 3).     \n",
    "You may create a new list or modify the passed in list."
   ]
  },
  {
   "cell_type": "code",
   "execution_count": 23,
   "metadata": {},
   "outputs": [
    {
     "data": {
      "text/plain": [
       "(1, 2, 3)"
      ]
     },
     "execution_count": 23,
     "metadata": {},
     "output_type": "execute_result"
    }
   ],
   "source": [
    "def remove_adjacent(nums):\n",
    "\n",
    "    return tuple(set(nums))\n",
    "\n",
    "list = [1, 2, 2, 3]\n",
    "remove_adjacent(list)"
   ]
  },
  {
   "cell_type": "markdown",
   "metadata": {},
   "source": [
    "## E. Linear merge\n",
    "Given two lists sorted in increasing order, create and return a merged list of all the elements in sorted order. You may modify the passed in lists. Ideally, the solution should work in \"linear\" time, making a single pass of both lists.\n"
   ]
  },
  {
   "cell_type": "code",
   "execution_count": 24,
   "metadata": {},
   "outputs": [],
   "source": [
    "def linear_merge(list1, list2):\n",
    "    list1.extend(list2)\n",
    "    return sorted(list1)"
   ]
  },
  {
   "cell_type": "code",
   "execution_count": 25,
   "metadata": {},
   "outputs": [],
   "source": [
    "# Note: the solution above is kind of cute, but unforunately list.pop(0)\n",
    "# is not constant time with the standard python list implementation, so\n",
    "# the above is not strictly linear time.\n",
    "# An alternate approach uses pop(-1) to remove the endmost elements\n",
    "# from each list, building a solution list which is backwards.\n",
    "# Then use reversed() to put the result back in the correct order. That\n",
    "# solution works in linear time, but is more ugly."
   ]
  },
  {
   "cell_type": "markdown",
   "metadata": {},
   "source": [
    "### THE CODE CELLS BELOW SHOUL NOT BE CHANGED OR TOUCHED (ONLY RUN)"
   ]
  },
  {
   "cell_type": "code",
   "execution_count": 26,
   "metadata": {},
   "outputs": [],
   "source": [
    "# THIS CODE CELL SHOUL NOT BE CHANGED OR TOUCHED (ONLY RUN)\n",
    "\n",
    "# Simple provided test() function used in main() to print\n",
    "# what each function returns vs. what it's supposed to return.\n",
    "def test(got, expected):\n",
    "    if got == expected:\n",
    "        prefix = ' OK '\n",
    "    else:\n",
    "        prefix = '  X '\n",
    "    print (f'{prefix} got: {got} expected: {expected}')"
   ]
  },
  {
   "cell_type": "code",
   "execution_count": 27,
   "metadata": {},
   "outputs": [],
   "source": [
    "# THIS CODE CELL SHOUL NOT BE CHANGED OR TOUCHED (ONLY RUN)\n",
    "\n",
    "# Calls the above functions with interesting inputs.\n",
    "def main():\n",
    "    print()\n",
    "    print('remove_adjacent')\n",
    "    test(remove_adjacent([1, 2, 2, 3]), (1, 2, 3))\n",
    "    test(remove_adjacent([2, 2, 3, 3, 3]), (2, 3))\n",
    "    test(remove_adjacent([]), ())\n",
    "\n",
    "    print()\n",
    "    print('linear_merge')\n",
    "    test(linear_merge(['aa', 'xx', 'zz'], ['bb', 'cc']),\n",
    "         ['aa', 'bb', 'cc', 'xx', 'zz'])\n",
    "    test(linear_merge(['aa', 'xx'], ['bb', 'cc', 'zz']),\n",
    "         ['aa', 'bb', 'cc', 'xx', 'zz'])\n",
    "    test(linear_merge(['aa', 'aa'], ['aa', 'bb', 'bb']),\n",
    "         ['aa', 'aa', 'aa', 'bb', 'bb'])"
   ]
  },
  {
   "cell_type": "code",
   "execution_count": 28,
   "metadata": {},
   "outputs": [
    {
     "name": "stdout",
     "output_type": "stream",
     "text": [
      "\n",
      "remove_adjacent\n",
      " OK  got: (1, 2, 3) expected: (1, 2, 3)\n",
      " OK  got: (2, 3) expected: (2, 3)\n",
      " OK  got: () expected: ()\n",
      "\n",
      "linear_merge\n",
      " OK  got: ['aa', 'bb', 'cc', 'xx', 'zz'] expected: ['aa', 'bb', 'cc', 'xx', 'zz']\n",
      " OK  got: ['aa', 'bb', 'cc', 'xx', 'zz'] expected: ['aa', 'bb', 'cc', 'xx', 'zz']\n",
      " OK  got: ['aa', 'aa', 'aa', 'bb', 'bb'] expected: ['aa', 'aa', 'aa', 'bb', 'bb']\n"
     ]
    }
   ],
   "source": [
    "# THIS CODE CELL SHOUL NOT BE CHANGED OR TOUCHED (ONLY RUN)\n",
    "main()"
   ]
  },
  {
   "cell_type": "code",
   "execution_count": 29,
   "metadata": {},
   "outputs": [],
   "source": [
    "# Copyright 2010 Google Inc.\n",
    "# Licensed under the Apache License, Version 2.0\n",
    "# http://www.apache.org/licenses/LICENSE-2.0"
   ]
  }
 ],
 "metadata": {
  "kernelspec": {
   "display_name": ".venv",
   "language": "python",
   "name": "python3"
  },
  "language_info": {
   "codemirror_mode": {
    "name": "ipython",
    "version": 3
   },
   "file_extension": ".py",
   "mimetype": "text/x-python",
   "name": "python",
   "nbconvert_exporter": "python",
   "pygments_lexer": "ipython3",
   "version": "3.12.5"
  }
 },
 "nbformat": 4,
 "nbformat_minor": 2
}

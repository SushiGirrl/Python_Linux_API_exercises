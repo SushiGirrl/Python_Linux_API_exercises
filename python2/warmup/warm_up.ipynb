{
 "cells": [
  {
   "cell_type": "markdown",
   "metadata": {
    "slideshow": {
     "slide_type": "slide"
    }
   },
   "source": [
    "# Opvarmning\n",
    "Svar på spørgsmålene:\n",
    "1. Først individuelt (2 minutter)\n",
    "2. herefter 2 og 2 (2 minutter)\n",
    "3. sidst \"ved tavlen\""
   ]
  },
  {
   "cell_type": "markdown",
   "metadata": {
    "slideshow": {
     "slide_type": "slide"
    }
   },
   "source": [
    "## Hvordan defineres en \n",
    "\n",
    "* liste\n",
    "* tuple\n",
    "* set\n",
    "* dict\n",
    "\n",
    "indeholdende 2 elementer?"
   ]
  },
  {
   "cell_type": "code",
   "execution_count": 11,
   "metadata": {},
   "outputs": [],
   "source": [
    "a = [1,2,3]\n",
    "b = (1,2,3)\n",
    "c = {1,2,3}\n",
    "d1 ={'hey': 1, 'hello': 2}\n",
    "d2 = dict(\n",
    "     Colorado='Rockies',\n",
    "     Boston='Red Sox',\n",
    "     Minnesota='Twins',\n",
    "     Milwaukee='Brewers',\n",
    "     Seattle='Mariners'\n",
    ")\n",
    "d3 = dict([\n",
    "    ('Colorado', 'Rockies'),\n",
    "    ('Boston', 'Red Sox'),\n",
    "    ('Minnesota', 'Twins'),\n",
    "    ('Milwaukee', 'Brewers'),\n",
    "    ('Seattle', 'Mariners')\n",
    "])\n",
    "\n"
   ]
  },
  {
   "cell_type": "markdown",
   "metadata": {
    "slideshow": {
     "slide_type": "skip"
    }
   },
   "source": [
    "<img style='float: right' src='2-countdown.gif'>"
   ]
  },
  {
   "cell_type": "code",
   "execution_count": 21,
   "metadata": {
    "slideshow": {
     "slide_type": "skip"
    }
   },
   "outputs": [],
   "source": [
    "\n",
    "t = ('clasu', 'bove')\n",
    "s = {1, 2, 1}\n",
    "d = {1:'one', 2: 'two'}"
   ]
  },
  {
   "cell_type": "markdown",
   "metadata": {
    "slideshow": {
     "slide_type": "slide"
    }
   },
   "source": [
    "## Hvordan får man fat i et element fra en: \n",
    "\n",
    "* liste\n",
    "* tuple\n",
    "* set\n",
    "* dict\n",
    "\n"
   ]
  },
  {
   "cell_type": "code",
   "execution_count": 8,
   "metadata": {},
   "outputs": [
    {
     "name": "stdout",
     "output_type": "stream",
     "text": [
      "2\n",
      "2\n",
      "1\n"
     ]
    }
   ],
   "source": [
    "a = [1,2,3]\n",
    "print(a[1])\n",
    "b = (1,2,3)\n",
    "print(b[1])\n",
    "c = {1,2,3}\n",
    "# Det kan man ikke\n",
    "d ={'hey': 1, 'hello': 2}\n",
    "print(d['hey'])"
   ]
  },
  {
   "cell_type": "markdown",
   "metadata": {
    "slideshow": {
     "slide_type": "fragment"
    }
   },
   "source": [
    "<img style='float: right' src='2-countdown.gif'>"
   ]
  },
  {
   "cell_type": "code",
   "execution_count": 11,
   "metadata": {
    "slideshow": {
     "slide_type": "skip"
    }
   },
   "outputs": [
    {
     "data": {
      "text/plain": [
       "'one'"
      ]
     },
     "execution_count": 11,
     "metadata": {},
     "output_type": "execute_result"
    }
   ],
   "source": [
    "l[1]\n",
    "t[1]\n",
    "30 in s\n",
    "{1}.issubset(s)\n",
    "fodboldhold = d\n",
    "fodboldhold[1]"
   ]
  },
  {
   "cell_type": "markdown",
   "metadata": {
    "slideshow": {
     "slide_type": "slide"
    }
   },
   "source": [
    "## Hvordan itererer man igennem en: \n",
    "\n",
    "* liste\n",
    "* tuple\n",
    "* set\n",
    "* dict"
   ]
  },
  {
   "cell_type": "code",
   "execution_count": 18,
   "metadata": {},
   "outputs": [
    {
     "name": "stdout",
     "output_type": "stream",
     "text": [
      "1\n",
      "2\n",
      "3\n",
      "1\n",
      "2\n",
      "3\n",
      "1\n",
      "2\n",
      "3\n",
      "hey\n",
      "hello\n",
      "1\n",
      "2\n",
      "('hey', 1)\n",
      "('hello', 2)\n",
      "hey\n",
      "1\n",
      "hello\n",
      "2\n"
     ]
    }
   ],
   "source": [
    "# loop\n",
    "for numbers in a:\n",
    "    print(numbers)\n",
    "\n",
    "for numbers in b:\n",
    "    print(numbers)\n",
    "\n",
    "for numbers in c:\n",
    "    print(numbers)\n",
    "\n",
    "for elem in d:\n",
    "    print(elem)\n",
    "\n",
    "for elem in d.values():\n",
    "    print(elem)\n",
    "\n",
    "for elem in d.items():\n",
    "    print(elem)\n",
    "\n",
    "for key, val in d.items():\n",
    "    print(key)\n",
    "    print(val)"
   ]
  },
  {
   "cell_type": "markdown",
   "metadata": {
    "slideshow": {
     "slide_type": "fragment"
    }
   },
   "source": [
    "<img style='float: right' src='2-countdown.gif'>"
   ]
  },
  {
   "cell_type": "code",
   "execution_count": 19,
   "metadata": {
    "slideshow": {
     "slide_type": "skip"
    }
   },
   "outputs": [
    {
     "name": "stdout",
     "output_type": "stream",
     "text": [
      "1\n",
      "one\n",
      "2\n",
      "two\n"
     ]
    }
   ],
   "source": [
    "for key, val in d.items():\n",
    "    print(key)\n",
    "    print(val)"
   ]
  },
  {
   "cell_type": "code",
   "execution_count": null,
   "metadata": {},
   "outputs": [],
   "source": []
  },
  {
   "cell_type": "markdown",
   "metadata": {
    "slideshow": {
     "slide_type": "slide"
    }
   },
   "source": [
    "# Slicing\n",
    "## På en liste, hvordan får man en subliste med: \n",
    "\n",
    "*  første til og med tredje element\n",
    "*  tredje til femte element\n",
    "* fra midten af listen til slut\n",
    "* fra start til slut, men kun hver anden element"
   ]
  },
  {
   "cell_type": "code",
   "execution_count": 19,
   "metadata": {},
   "outputs": [
    {
     "name": "stdout",
     "output_type": "stream",
     "text": [
      "1\n"
     ]
    }
   ],
   "source": [
    "# [:3]\n",
    "# [2:5]\n",
    "# [(len(list)//2):]\n",
    "# [::1]\n",
    "a = [1,2,3]\n",
    "print(len(a)//2)"
   ]
  },
  {
   "cell_type": "markdown",
   "metadata": {
    "slideshow": {
     "slide_type": "fragment"
    }
   },
   "source": [
    "<img style='float: right' src='2-countdown.gif'>"
   ]
  },
  {
   "cell_type": "code",
   "execution_count": 24,
   "metadata": {},
   "outputs": [],
   "source": [
    "l = [1,2, 3, 4, 5, 6, 7, 8]"
   ]
  },
  {
   "cell_type": "code",
   "execution_count": 30,
   "metadata": {
    "slideshow": {
     "slide_type": "skip"
    }
   },
   "outputs": [
    {
     "data": {
      "text/plain": [
       "[2, 5, 8]"
      ]
     },
     "execution_count": 30,
     "metadata": {},
     "output_type": "execute_result"
    }
   ],
   "source": [
    "l[:3]\n",
    "l[2:5]\n",
    "middle = len(l)//2\n",
    "l[middle:]\n",
    "l[1::3]\n"
   ]
  },
  {
   "cell_type": "markdown",
   "metadata": {
    "slideshow": {
     "slide_type": "slide"
    }
   },
   "source": [
    "# Sorting\n",
    "## Hvordan sorterer man en Liste med brug af dets: \n",
    "\n",
    "* **key** argument"
   ]
  },
  {
   "cell_type": "code",
   "execution_count": 37,
   "metadata": {},
   "outputs": [
    {
     "name": "stdout",
     "output_type": "stream",
     "text": [
      "[3, 5, -5]\n",
      "[-7, 9, 4, -5, 3, 1, 2]\n",
      "[1, 2, 3, 4, -5, -7, 9]\n",
      "[-7, -5, 1, 2, 3, 4, 9]\n",
      "['Hello', 'world', \"it's\", 'a', 'me', 'Mario!']\n",
      "['a', 'me', \"it's\", 'Hello', 'world', 'Mario!']\n",
      "('e', 'c', 'd', 'b', 'a', 'f')\n",
      "['a', 'b', 'c', 'd', 'e', 'f']\n",
      "['f', 'e', 'd', 'c', 'b', 'a']\n"
     ]
    }
   ],
   "source": [
    "list = [5,-5,3]\n",
    "list.sort(key=abs)\n",
    "print(list)\n",
    "list = [-7,9,4,-5,3,1,2]\n",
    "sorted(list, key=abs)\n",
    "print(list)\n",
    "print(sorted(list, key=abs))\n",
    "print(sorted(list))\n",
    "\n",
    "strings = [\"Hello\", \"world\", \"it's\", \"a\", \"me\", \"Mario!\"]\n",
    "print(strings)\n",
    "print(sorted(strings, key=len))\n",
    "\n",
    "tuple1 = ('e', 'c', 'd', 'b', 'a', 'f')\n",
    "print(tuple1)\n",
    "print(sorted(tuple1))\n",
    "print(sorted(tuple1, reverse = True))"
   ]
  },
  {
   "cell_type": "markdown",
   "metadata": {
    "slideshow": {
     "slide_type": "fragment"
    }
   },
   "source": [
    "<img style='float: right' src='2-countdown.gif'>"
   ]
  },
  {
   "cell_type": "code",
   "execution_count": 36,
   "metadata": {},
   "outputs": [
    {
     "data": {
      "text/plain": [
       "['ib', 'henning', 'søren', 'trine']"
      ]
     },
     "execution_count": 36,
     "metadata": {},
     "output_type": "execute_result"
    }
   ],
   "source": [
    "l = ['ib', 'henning', 'søren', 'trine']\n",
    "l\n",
    "[True ,True, False, True] -> [1, 1, 0, 1]"
   ]
  },
  {
   "cell_type": "code",
   "execution_count": 41,
   "metadata": {},
   "outputs": [
    {
     "data": {
      "text/plain": [
       "['søren', 'ib', 'henning', 'trine']"
      ]
     },
     "execution_count": 41,
     "metadata": {},
     "output_type": "execute_result"
    }
   ],
   "source": [
    "def simplesort(n):\n",
    "    return 'i' in n # true\n",
    "\n",
    "#sorted(l, key=simplesort)\n",
    "\n",
    "sorted(l, key=lambda n: 'i' in n)\n"
   ]
  },
  {
   "cell_type": "code",
   "execution_count": null,
   "metadata": {},
   "outputs": [],
   "source": []
  }
 ],
 "metadata": {
  "kernelspec": {
   "display_name": ".venv",
   "language": "python",
   "name": "python3"
  },
  "language_info": {
   "codemirror_mode": {
    "name": "ipython",
    "version": 3
   },
   "file_extension": ".py",
   "mimetype": "text/x-python",
   "name": "python",
   "nbconvert_exporter": "python",
   "pygments_lexer": "ipython3",
   "version": "3.12.5"
  }
 },
 "nbformat": 4,
 "nbformat_minor": 2
}

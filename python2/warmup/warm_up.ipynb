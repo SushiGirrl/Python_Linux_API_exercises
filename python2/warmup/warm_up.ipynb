{
 "cells": [
  {
   "cell_type": "markdown",
   "metadata": {
    "slideshow": {
     "slide_type": "slide"
    }
   },
   "source": [
    "# Opvarmning\n",
    "Svar på spørgsmålene:\n",
    "1. Først individuelt (2 minutter)\n",
    "2. herefter 2 og 2 (2 minutter)\n",
    "3. sidst \"ved tavlen\""
   ]
  },
  {
   "cell_type": "markdown",
   "metadata": {
    "slideshow": {
     "slide_type": "slide"
    }
   },
   "source": [
    "## Hvordan defineres en \n",
    "\n",
    "* liste\n",
    "* tuple\n",
    "* set\n",
    "* dict\n",
    "\n",
    "indeholdende 2 elementer?"
   ]
  },
  {
   "cell_type": "code",
   "execution_count": 11,
   "metadata": {},
   "outputs": [],
   "source": [
    "a = [1,2,3]\n",
    "b = (1,2,3)\n",
    "c = {1,2,3}\n",
    "d1 ={'hey': 1, 'hello': 2}\n",
    "d2 = dict(\n",
    "     Colorado='Rockies',\n",
    "     Boston='Red Sox',\n",
    "     Minnesota='Twins',\n",
    "     Milwaukee='Brewers',\n",
    "     Seattle='Mariners'\n",
    ")\n",
    "d3 = dict([\n",
    "    ('Colorado', 'Rockies'),\n",
    "    ('Boston', 'Red Sox'),\n",
    "    ('Minnesota', 'Twins'),\n",
    "    ('Milwaukee', 'Brewers'),\n",
    "    ('Seattle', 'Mariners')\n",
    "])\n",
    "\n"
   ]
  },
  {
   "cell_type": "markdown",
   "metadata": {
    "slideshow": {
     "slide_type": "fragment"
    }
   },
   "source": [
    "<img style='float: right' src='2-countdown.gif'>"
   ]
  },
  {
   "cell_type": "code",
   "execution_count": null,
   "metadata": {
    "slideshow": {
     "slide_type": "skip"
    }
   },
   "outputs": [],
   "source": []
  },
  {
   "cell_type": "markdown",
   "metadata": {
    "slideshow": {
     "slide_type": "slide"
    }
   },
   "source": [
    "## Hvordan får man fat i et element fra en: \n",
    "\n",
    "* liste\n",
    "* tuple\n",
    "* set\n",
    "* dict\n",
    "\n"
   ]
  },
  {
   "cell_type": "code",
   "execution_count": 8,
   "metadata": {},
   "outputs": [
    {
     "name": "stdout",
     "output_type": "stream",
     "text": [
      "2\n",
      "2\n",
      "1\n"
     ]
    }
   ],
   "source": [
    "a = [1,2,3]\n",
    "print(a[1])\n",
    "b = (1,2,3)\n",
    "print(b[1])\n",
    "c = {1,2,3}\n",
    "# Det kan man ikke\n",
    "d ={'hey': 1, 'hello': 2}\n",
    "print(d['hey'])"
   ]
  },
  {
   "cell_type": "markdown",
   "metadata": {
    "slideshow": {
     "slide_type": "fragment"
    }
   },
   "source": [
    "<img style='float: right' src='2-countdown.gif'>"
   ]
  },
  {
   "cell_type": "code",
   "execution_count": null,
   "metadata": {
    "slideshow": {
     "slide_type": "skip"
    }
   },
   "outputs": [],
   "source": []
  },
  {
   "cell_type": "markdown",
   "metadata": {
    "slideshow": {
     "slide_type": "slide"
    }
   },
   "source": [
    "## Hvordan itererer man igennem en: \n",
    "\n",
    "* liste\n",
    "* tuple\n",
    "* set\n",
    "* dict"
   ]
  },
  {
   "cell_type": "code",
   "execution_count": 18,
   "metadata": {},
   "outputs": [
    {
     "name": "stdout",
     "output_type": "stream",
     "text": [
      "1\n",
      "2\n",
      "3\n",
      "1\n",
      "2\n",
      "3\n",
      "1\n",
      "2\n",
      "3\n",
      "hey\n",
      "hello\n",
      "1\n",
      "2\n",
      "('hey', 1)\n",
      "('hello', 2)\n",
      "hey\n",
      "1\n",
      "hello\n",
      "2\n"
     ]
    }
   ],
   "source": [
    "# loop\n",
    "for numbers in a:\n",
    "    print(numbers)\n",
    "\n",
    "for numbers in b:\n",
    "    print(numbers)\n",
    "\n",
    "for numbers in c:\n",
    "    print(numbers)\n",
    "\n",
    "for elem in d:\n",
    "    print(elem)\n",
    "\n",
    "for elem in d.values():\n",
    "    print(elem)\n",
    "\n",
    "for elem in d.items():\n",
    "    print(elem)\n",
    "\n",
    "for key, val in d.items():\n",
    "    print(key)\n",
    "    print(val)"
   ]
  },
  {
   "cell_type": "markdown",
   "metadata": {
    "slideshow": {
     "slide_type": "fragment"
    }
   },
   "source": [
    "<img style='float: right' src='2-countdown.gif'>"
   ]
  },
  {
   "cell_type": "code",
   "execution_count": null,
   "metadata": {
    "slideshow": {
     "slide_type": "skip"
    }
   },
   "outputs": [],
   "source": []
  },
  {
   "cell_type": "markdown",
   "metadata": {
    "slideshow": {
     "slide_type": "slide"
    }
   },
   "source": [
    "# Slicing\n",
    "## På en liste, hvordan får man en subliste med: \n",
    "\n",
    "*  første til tredje element\n",
    "*  tredje til femte element\n",
    "* fra midten af listen til slut\n",
    "* fra start til slut, men kun hver anden element"
   ]
  },
  {
   "cell_type": "code",
   "execution_count": 19,
   "metadata": {},
   "outputs": [
    {
     "name": "stdout",
     "output_type": "stream",
     "text": [
      "1\n"
     ]
    }
   ],
   "source": [
    "# [:3]\n",
    "# [2:5]\n",
    "# [(len(list)//2):]\n",
    "# [::1]\n",
    "a = [1,2,3]\n",
    "print(len(a)//2)"
   ]
  },
  {
   "cell_type": "markdown",
   "metadata": {
    "slideshow": {
     "slide_type": "fragment"
    }
   },
   "source": [
    "<img style='float: right' src='2-countdown.gif'>"
   ]
  },
  {
   "cell_type": "code",
   "execution_count": null,
   "metadata": {
    "slideshow": {
     "slide_type": "skip"
    }
   },
   "outputs": [],
   "source": []
  },
  {
   "cell_type": "markdown",
   "metadata": {
    "slideshow": {
     "slide_type": "slide"
    }
   },
   "source": [
    "# Sorting\n",
    "## Hvordan sorterer man en Liste med brug af dets: \n",
    "\n",
    "* **key** argument"
   ]
  },
  {
   "cell_type": "code",
   "execution_count": 37,
   "metadata": {},
   "outputs": [
    {
     "name": "stdout",
     "output_type": "stream",
     "text": [
      "[3, 5, -5]\n",
      "[-7, 9, 4, -5, 3, 1, 2]\n",
      "[1, 2, 3, 4, -5, -7, 9]\n",
      "[-7, -5, 1, 2, 3, 4, 9]\n",
      "['Hello', 'world', \"it's\", 'a', 'me', 'Mario!']\n",
      "['a', 'me', \"it's\", 'Hello', 'world', 'Mario!']\n",
      "('e', 'c', 'd', 'b', 'a', 'f')\n",
      "['a', 'b', 'c', 'd', 'e', 'f']\n",
      "['f', 'e', 'd', 'c', 'b', 'a']\n"
     ]
    }
   ],
   "source": [
    "list = [5,-5,3]\n",
    "list.sort(key=abs)\n",
    "print(list)\n",
    "list = [-7,9,4,-5,3,1,2]\n",
    "sorted(list, key=abs)\n",
    "print(list)\n",
    "print(sorted(list, key=abs))\n",
    "print(sorted(list))\n",
    "\n",
    "strings = [\"Hello\", \"world\", \"it's\", \"a\", \"me\", \"Mario!\"]\n",
    "print(strings)\n",
    "print(sorted(strings, key=len))\n",
    "\n",
    "tuple1 = ('e', 'c', 'd', 'b', 'a', 'f')\n",
    "print(tuple1)\n",
    "print(sorted(tuple1))\n",
    "print(sorted(tuple1, reverse = True))"
   ]
  },
  {
   "cell_type": "markdown",
   "metadata": {
    "slideshow": {
     "slide_type": "fragment"
    }
   },
   "source": [
    "<img style='float: right' src='2-countdown.gif'>"
   ]
  }
 ],
 "metadata": {
  "kernelspec": {
   "display_name": ".venv",
   "language": "python",
   "name": "python3"
  },
  "language_info": {
   "codemirror_mode": {
    "name": "ipython",
    "version": 3
   },
   "file_extension": ".py",
   "mimetype": "text/x-python",
   "name": "python",
   "nbconvert_exporter": "python",
   "pygments_lexer": "ipython3",
   "version": "3.12.5"
  }
 },
 "nbformat": 4,
 "nbformat_minor": 2
}

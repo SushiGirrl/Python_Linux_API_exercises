{
 "cells": [
  {
   "cell_type": "markdown",
   "metadata": {},
   "source": [
    "# San Francisco Crime Data Analysis "
   ]
  },
  {
   "cell_type": "markdown",
   "metadata": {},
   "source": [
    "### Load some crime-data into your Jupyter notebook\n",
    "The data we will be working with is perfect for `pandas`, so a good approach is to go to [Pandas Tutorial](https://www.w3schools.com/python/pandas/default.asp) if you don't and figure out how to load data into `pandas` means."
   ]
  },
  {
   "cell_type": "markdown",
   "metadata": {},
   "source": [
    "> *Exercise 1*\n",
    ">\n",
    "> * Go to https://datasf.org/opendata/\n",
    "> * Click on \"Public Safety\"\n",
    "> * You will notice that the SF crime data is divided into two periods. One from 2003 to May 2018 and one which is all of 2018 to the present. **Today, to keep things easy, we will just work with the data from 2003 to 2018** (from January 1st 2003 to December 31st 2017 to be exact). \n",
    "> * Thus, you may simply download all police incidence reports, historical 2003 to may 2018. You can get everything as a big CSV file if you press the *Export* button (it's a snappy little ~500MB file).\n",
    "> * To get this thing into `pandas`, you can use the tips and tricks described [here](https://www.shanelynn.ie/python-pandas-read_csv-load-data-from-csv-files/). If you want to try your luck without `pandas`, you can use the `csv` package to load the file.\n",
    "> * Now generate the following simple statistics\n",
    ">   - Report the total number of crimes in the dataset.\n",
    ">   - List the various categories of crime. How many are there? \n",
    ">   - List the number of crimes in each category.\n",
    "\n",
    "---\n",
    "\n",
    "In order to do awesome *predictive policing*, we're going to dissect the SF crime-data quite thoroughly to figure out what has been going on over the last  years on the San Francisco crime scene. \n",
    "\n",
    "> *Exercise 2*: The types of crimes. The first field we'll dig into is the column \"Category\".\n",
    "> * We have already counted the number of crimes in each category. What is the most commonly occurring category of crime? What is the least frequently occurring?\n",
    "> * Create a bar-plot over crime occurrences. First essential lesson regarding data visualization: **For a plot to be informative you need to label the axes** (The police chief will be furious if you forget). It can also be nice to other relevant pieces of info, title, labels, etc.). Mine looks like this (but yours doesn't have to look exactly like mine - the important thing is that you clearly communicate the information in the dataset).\n",
    "\n",
    "<div>\n",
    "<img src=\"https://raw.githubusercontent.com/suneman/socialdata2022/main/files/CrimeOccurrencesByCategory.png\" width=\"700\"/>\n",
    "</div>"
   ]
  },
  {
   "cell_type": "markdown",
   "metadata": {},
   "source": [
    "<small><div style='text-align:right'>(C) Sune Lehmann (https://github.com/suneman/socialdata2024/blob/main/lectures/Week1.ipynb)</div></small>"
   ]
  },
  {
   "cell_type": "code",
   "execution_count": 11,
   "metadata": {},
   "outputs": [
    {
     "name": "stdout",
     "output_type": "stream",
     "text": [
      "Total number of rows: 2129525\n",
      "Number of different categories: 37\n",
      "List of categories: ['ROBBERY' 'VEHICLE THEFT' 'ARSON' 'ASSAULT' 'TRESPASS' 'BURGLARY'\n",
      " 'LARCENY/THEFT' 'WARRANTS' 'OTHER OFFENSES' 'DRUG/NARCOTIC'\n",
      " 'SUSPICIOUS OCC' 'LIQUOR LAWS' 'VANDALISM' 'WEAPON LAWS' 'NON-CRIMINAL'\n",
      " 'MISSING PERSON' 'FRAUD' 'SEX OFFENSES, FORCIBLE' 'SECONDARY CODES'\n",
      " 'DISORDERLY CONDUCT' 'RECOVERED VEHICLE' 'KIDNAPPING'\n",
      " 'FORGERY/COUNTERFEITING' 'PROSTITUTION' 'DRUNKENNESS' 'BAD CHECKS'\n",
      " 'DRIVING UNDER THE INFLUENCE' 'LOITERING' 'STOLEN PROPERTY' 'SUICIDE'\n",
      " 'BRIBERY' 'EXTORTION' 'EMBEZZLEMENT' 'GAMBLING' 'PORNOGRAPHY/OBSCENE MAT'\n",
      " 'SEX OFFENSES, NON FORCIBLE' 'TREA']\n",
      "Number of crimes each category:\n",
      "Category\n",
      "LARCENY/THEFT                  477975\n",
      "OTHER OFFENSES                 301874\n",
      "NON-CRIMINAL                   236928\n",
      "ASSAULT                        167042\n",
      "VEHICLE THEFT                  126228\n",
      "DRUG/NARCOTIC                  117821\n",
      "VANDALISM                      114718\n",
      "WARRANTS                        99821\n",
      "BURGLARY                        91067\n",
      "SUSPICIOUS OCC                  79087\n",
      "ROBBERY                         54467\n",
      "MISSING PERSON                  44268\n",
      "FRAUD                           41348\n",
      "FORGERY/COUNTERFEITING          22995\n",
      "SECONDARY CODES                 22378\n",
      "WEAPON LAWS                     21004\n",
      "TRESPASS                        19194\n",
      "PROSTITUTION                    16501\n",
      "STOLEN PROPERTY                 11450\n",
      "DISORDERLY CONDUCT               9932\n",
      "DRUNKENNESS                      9760\n",
      "SEX OFFENSES, FORCIBLE           8747\n",
      "RECOVERED VEHICLE                8688\n",
      "DRIVING UNDER THE INFLUENCE      5652\n",
      "KIDNAPPING                       4282\n",
      "ARSON                            3875\n",
      "EMBEZZLEMENT                     2984\n",
      "LIQUOR LAWS                      2840\n",
      "LOITERING                        2402\n",
      "SUICIDE                          1291\n",
      "BAD CHECKS                        924\n",
      "BRIBERY                           796\n",
      "EXTORTION                         729\n",
      "GAMBLING                          343\n",
      "PORNOGRAPHY/OBSCENE MAT            57\n",
      "SEX OFFENSES, NON FORCIBLE         43\n",
      "TREA                               14\n",
      "Name: count, dtype: int64\n"
     ]
    }
   ],
   "source": [
    "#!pip install pandas\n",
    "import pandas as pd\n",
    "\n",
    "dataFile = pd.read_csv('PD_Reports_2003-2018.csv')\n",
    "\n",
    "# Get the total number of rows/crimes\n",
    "total_rows = dataFile.shape[0]\n",
    "\n",
    "print(\"Total number of rows:\", total_rows)\n",
    "\n",
    "# Get the unique categories\n",
    "unique_categories = dataFile['Category'].unique()\n",
    "\n",
    "# Get the number of unique categories\n",
    "num_unique_categories = len(unique_categories)\n",
    "\n",
    "print(\"Number of different categories:\", num_unique_categories)\n",
    "print(\"List of categories:\", unique_categories)\n",
    "\n",
    "# Get the counts of each category\n",
    "category_counts = dataFile['Category'].value_counts()\n",
    "\n",
    "# Print the number of times each category appears\n",
    "print(\"Number of crimes each category:\")\n",
    "print(category_counts)"
   ]
  },
  {
   "cell_type": "code",
   "execution_count": null,
   "metadata": {},
   "outputs": [],
   "source": []
  }
 ],
 "metadata": {
  "kernelspec": {
   "display_name": ".venv",
   "language": "python",
   "name": "python3"
  },
  "language_info": {
   "codemirror_mode": {
    "name": "ipython",
    "version": 3
   },
   "file_extension": ".py",
   "mimetype": "text/x-python",
   "name": "python",
   "nbconvert_exporter": "python",
   "pygments_lexer": "ipython3",
   "version": "3.12.5"
  }
 },
 "nbformat": 4,
 "nbformat_minor": 2
}
